{
 "cells": [
  {
   "cell_type": "markdown",
   "id": "b191786e",
   "metadata": {},
   "source": [
    "# Age Classification Using Facial Images"
   ]
  },
  {
   "cell_type": "markdown",
   "id": "7f0339d9",
   "metadata": {},
   "source": [
    "#### Import Statements"
   ]
  },
  {
   "cell_type": "code",
   "execution_count": 1,
   "id": "75d0d06c",
   "metadata": {},
   "outputs": [
    {
     "name": "stderr",
     "output_type": "stream",
     "text": [
      "e:\\virtualenv\\lib\\site-packages\\scipy\\__init__.py:146: UserWarning: A NumPy version >=1.16.5 and <1.23.0 is required for this version of SciPy (detected version 1.23.3\n",
      "  warnings.warn(f\"A NumPy version >={np_minversion} and <{np_maxversion}\"\n"
     ]
    }
   ],
   "source": [
    "import numpy as np \n",
    "import plotly.express as px \n",
    "import pandas as pd \n",
    "import cv2 \n",
    "import os \n",
    "from glob import glob\n",
    "from PIL import Image\n",
    "import tensorflow as tf\n",
    "from tensorflow.keras.models import Sequential\n",
    "from tensorflow.keras.layers import Conv2D, MaxPool2D, Activation, Dropout, Flatten, Dense, Dropout, LayerNormalization\n",
    "from tensorflow.keras.preprocessing.image import ImageDataGenerator, img_to_array, load_img\n",
    "import matplotlib.pyplot as plt\n",
    "import pickle \n",
    "\n",
    "import tensorflow as tf\n",
    "from tensorflow import keras\n",
    "import matplotlib.pyplot as plt\n",
    "\n",
    "from tensorflow.keras.optimizers import Adam\n",
    "#added import for sgd\n",
    "from tensorflow.keras.optimizers import SGD\n",
    "\n",
    "# import dlib\n",
    "import dlib\n",
    "\n",
    "import dlib\n",
    "\n",
    "from imutils.face_utils import FaceAligner\n",
    "from imutils.face_utils import rect_to_bb\n",
    "\n",
    "import imutils\n",
    "\n",
    "from tensorflow.keras.metrics import Precision, Recall"
   ]
  },
  {
   "cell_type": "markdown",
   "id": "a290bb78",
   "metadata": {},
   "source": [
    "## Data Retrival and Cleaning"
   ]
  },
  {
   "cell_type": "markdown",
   "id": "32dc1b92",
   "metadata": {},
   "source": [
    "#### Converting the txt data to a dataframe"
   ]
  },
  {
   "cell_type": "code",
   "execution_count": 2,
   "id": "8b3fdc40",
   "metadata": {},
   "outputs": [],
   "source": [
    "df_list = []\n",
    "for file_name in glob(\"/age and gender prediction/project/data/AdienceAge/text reference to images/*.txt\"):\n",
    "    df_temp = pd.read_csv(file_name, sep=\"\\t\")\n",
    "    df_list.append(df_temp)\n",
    "df = pd.concat(df_list, axis=0, ignore_index=True)\n",
    "del df_list"
   ]
  },
  {
   "cell_type": "code",
   "execution_count": 3,
   "id": "bc85dc3e",
   "metadata": {},
   "outputs": [
    {
     "data": {
      "text/plain": [
       "(19370, 12)"
      ]
     },
     "execution_count": 3,
     "metadata": {},
     "output_type": "execute_result"
    }
   ],
   "source": [
    "df.shape"
   ]
  },
  {
   "cell_type": "markdown",
   "id": "449afa27",
   "metadata": {},
   "source": [
    "#### Dropping null values"
   ]
  },
  {
   "cell_type": "code",
   "execution_count": 4,
   "id": "67b2bb27",
   "metadata": {},
   "outputs": [],
   "source": [
    "df = df.dropna()"
   ]
  },
  {
   "cell_type": "code",
   "execution_count": 5,
   "id": "b5f34c8a",
   "metadata": {},
   "outputs": [
    {
     "data": {
      "text/plain": [
       "(18591, 12)"
      ]
     },
     "execution_count": 5,
     "metadata": {},
     "output_type": "execute_result"
    }
   ],
   "source": [
    "df.shape"
   ]
  },
  {
   "cell_type": "markdown",
   "id": "41fc3b7e",
   "metadata": {},
   "source": [
    "#### Using the details of dataframe to get the image path"
   ]
  },
  {
   "cell_type": "code",
   "execution_count": 6,
   "id": "9ae4f34d",
   "metadata": {},
   "outputs": [],
   "source": [
    "df['image_path'] = df[['user_id', 'face_id', 'original_image']].apply(\n",
    "    lambda x: os.path.join('/age and gender prediction/project/data/AdienceAge/aligned', f\"{x[0]}\", f\"landmark_aligned_face.{x[1]}.{x[2]}\"), axis=1)"
   ]
  },
  {
   "cell_type": "markdown",
   "id": "de616e52",
   "metadata": {},
   "source": [
    "#### Narrowing the classification to *Eight Age Classes*"
   ]
  },
  {
   "cell_type": "code",
   "execution_count": 7,
   "id": "40dcedeb",
   "metadata": {},
   "outputs": [
    {
     "data": {
      "text/plain": [
       "(25, 32)     4953\n",
       "(0, 2)       2488\n",
       "(38, 43)     2293\n",
       "(4, 6)       2140\n",
       "(8, 12)      2119\n",
       "(15, 20)     1642\n",
       "(60, 100)     867\n",
       "(48, 53)      825\n",
       "35            293\n",
       "13            168\n",
       "22            149\n",
       "34            105\n",
       "23             96\n",
       "45             88\n",
       "(27, 32)       77\n",
       "55             76\n",
       "36             56\n",
       "(38, 42)       46\n",
       "None           40\n",
       "57             24\n",
       "3              18\n",
       "29             11\n",
       "(38, 48)        6\n",
       "58              5\n",
       "2               3\n",
       "(8, 23)         1\n",
       "42              1\n",
       "46              1\n",
       "Name: age, dtype: int64"
      ]
     },
     "execution_count": 7,
     "metadata": {},
     "output_type": "execute_result"
    }
   ],
   "source": [
    "df.age.value_counts()"
   ]
  },
  {
   "cell_type": "code",
   "execution_count": 8,
   "id": "8641156d",
   "metadata": {},
   "outputs": [
    {
     "name": "stderr",
     "output_type": "stream",
     "text": [
      "e:\\virtualenv\\lib\\site-packages\\pandas\\core\\indexing.py:1732: SettingWithCopyWarning: \n",
      "A value is trying to be set on a copy of a slice from a DataFrame\n",
      "\n",
      "See the caveats in the documentation: https://pandas.pydata.org/pandas-docs/stable/user_guide/indexing.html#returning-a-view-versus-a-copy\n",
      "  self._setitem_single_block(indexer, value, name)\n"
     ]
    }
   ],
   "source": [
    "age_mapping = [('(0, 2)', 'Kid'), ('2', 'Kid'), ('3', 'Kid'), ('(4, 6)', 'Kid'), ('(8, 12)', 'Kid'), ('13', 'Kid'), ('22', 'Youth'), ('(8, 23)','Youth'), ('23', 'Youth'),\n",
    "               ('(15, 20)', 'Youth'), ('(25, 32)', 'Youth'), ('(27, 32)', 'Youth'), ('32', 'Youth'), ('34', 'Youth'), ('29', 'Youth'), ('(38, 42)', 'Adult'), ('35', 'Adult'),\n",
    "               ('36', 'Adult'), ('42', 'Adult'), ('45', 'Adult'), ('(38, 43)', 'Adult'), ('(38, 42)', 'Adult'), ('(38, 48)', 'Adult'), ('46', 'Adult'), ('(48, 53)', 'Adult'),\n",
    "               ('55', 'Adult'), ('56', 'Adult'), ('(60, 100)', 'Old'), ('57', 'Old'), ('58', 'Old')]\n",
    "\n",
    "age_mapping_dict = {each[0]: each[1] for each in age_mapping}\n",
    "\n",
    "drop_labels = []\n",
    "for idx, each in enumerate(df.age):\n",
    "    if each == 'None':\n",
    "        drop_labels.append(idx)\n",
    "    else:\n",
    "        df.age.loc[idx] = age_mapping_dict[each]\n",
    "df = df.drop(labels=drop_labels, axis=0) #droped None values\n",
    "ind = df[df['age'].str.startswith(\"(\")].index\n",
    "df.drop(ind, axis = 0, inplace = True)\n",
    "df = df[df['age'] != '35']\n",
    "df = df[df['age'] != '55']"
   ]
  },
  {
   "cell_type": "code",
   "execution_count": 9,
   "id": "0d8128b4",
   "metadata": {},
   "outputs": [
    {
     "data": {
      "text/plain": [
       "Kid      6770\n",
       "Youth    6662\n",
       "Adult    3562\n",
       "Old       862\n",
       "Name: age, dtype: int64"
      ]
     },
     "execution_count": 9,
     "metadata": {},
     "output_type": "execute_result"
    }
   ],
   "source": [
    "df['age'].value_counts()"
   ]
  },
  {
   "cell_type": "code",
   "execution_count": 10,
   "id": "1a0504c2",
   "metadata": {},
   "outputs": [],
   "source": [
    "new_df = df[['age', 'gender', 'x', 'y', 'dx', 'dy','image_path']]"
   ]
  },
  {
   "cell_type": "code",
   "execution_count": 11,
   "id": "5d25b8cf",
   "metadata": {},
   "outputs": [],
   "source": [
    "del df"
   ]
  },
  {
   "cell_type": "markdown",
   "id": "0d004603",
   "metadata": {},
   "source": [
    "#### Using LabelEncoder to obtain targets in integers"
   ]
  },
  {
   "cell_type": "code",
   "execution_count": 12,
   "id": "a50db367",
   "metadata": {},
   "outputs": [],
   "source": [
    "from sklearn.preprocessing import LabelEncoder \n",
    "le = LabelEncoder()\n",
    "new_df['age'] = le.fit_transform(new_df['age'])"
   ]
  },
  {
   "cell_type": "markdown",
   "id": "73fbaa8f",
   "metadata": {},
   "source": [
    "#### Dumping the same for future usage"
   ]
  },
  {
   "cell_type": "code",
   "execution_count": 13,
   "id": "03b6ba42",
   "metadata": {},
   "outputs": [],
   "source": [
    "with open('Adience_age_encoder.pkl','wb') as pkl_file:\n",
    "    pickle.dump(le, pkl_file)"
   ]
  },
  {
   "cell_type": "markdown",
   "id": "77a5e726",
   "metadata": {},
   "source": [
    "## Image Preprocessing"
   ]
  },
  {
   "cell_type": "markdown",
   "id": "9f7ca3fa",
   "metadata": {},
   "source": [
    "#### Preparing to split for train and test set"
   ]
  },
  {
   "cell_type": "code",
   "execution_count": 14,
   "id": "76d858d7",
   "metadata": {},
   "outputs": [],
   "source": [
    "X = new_df[['image_path']].values \n",
    "y = new_df[['age']].values "
   ]
  },
  {
   "cell_type": "code",
   "execution_count": 15,
   "id": "6fdc7274",
   "metadata": {},
   "outputs": [
    {
     "data": {
      "text/plain": [
       "{0, 1, 2, 3}"
      ]
     },
     "execution_count": 15,
     "metadata": {},
     "output_type": "execute_result"
    }
   ],
   "source": [
    "set(y.flatten().tolist())"
   ]
  },
  {
   "cell_type": "markdown",
   "id": "15281658",
   "metadata": {},
   "source": [
    "#### Train Test Split"
   ]
  },
  {
   "cell_type": "code",
   "execution_count": 16,
   "id": "c1149349",
   "metadata": {},
   "outputs": [],
   "source": [
    "from sklearn.model_selection import train_test_split \n",
    "X_train, X_test, y_train, y_test = train_test_split(X, y, test_size=0.2, random_state=42)"
   ]
  },
  {
   "cell_type": "markdown",
   "id": "670cb39e",
   "metadata": {},
   "source": [
    "#### Assigning uniform image extensions and resizing"
   ]
  },
  {
   "cell_type": "code",
   "execution_count": 17,
   "id": "ed4b4329",
   "metadata": {},
   "outputs": [],
   "source": [
    "def preprocess_image(individual_path):\n",
    "    img = tf.io.read_file(np.array(individual_path).ravel()[0]) \n",
    "    img = tf.image.decode_jpeg(img)\n",
    "    img = tf.image.resize(img, [227,227])\n",
    "    return img "
   ]
  },
  {
   "cell_type": "markdown",
   "id": "8ec7cbc0",
   "metadata": {},
   "source": [
    "## Face Detection and Landmark Detection"
   ]
  },
  {
   "cell_type": "markdown",
   "id": "a2dc43ee",
   "metadata": {},
   "source": [
    "#### Detecting faces using cv2's face_cascade function, and overwriting with the original image"
   ]
  },
  {
   "cell_type": "code",
   "execution_count": 18,
   "id": "dbec76a8",
   "metadata": {},
   "outputs": [],
   "source": [
    "def yield_training_values(X_train,y_train):\n",
    "    detector = dlib.get_frontal_face_detector()\n",
    "    predictor = dlib.shape_predictor('shape_predictor_68_face_landmarks.dat')\n",
    "    fa = FaceAligner(predictor, desiredFaceWidth=256)\n",
    "    for image_path, value in zip(X_train, y_train):\n",
    "        imageP = image_path[0].decode(\"utf-8\")\n",
    "        img= cv2.imread(imageP, 1)\n",
    "        denoised_image = cv2.fastNlMeansDenoisingColored(img, None, 5, 6, 7, 21)\n",
    "\n",
    "        gray = cv2.cvtColor(denoised_image, cv2.COLOR_BGR2GRAY)\n",
    "        # Detect the face\n",
    "        rects = detector(gray, 1)\n",
    "        # Detect landmarks for each face\n",
    "        \n",
    "        try:\n",
    "            for rect in rects:\n",
    "                faceAligned = fa.align(img, gray, rect)\n",
    "\n",
    "            gray1 = cv2.cvtColor(faceAligned, cv2.COLOR_BGR2GRAY)\n",
    "            face_cascade = cv2.CascadeClassifier(cv2.data.haarcascades + 'haarcascade_frontalface_default.xml')\n",
    "            faces = face_cascade.detectMultiScale(gray1, 1.3, 5)\n",
    "\n",
    "            try:\n",
    "                for (x,y,w,h) in faces:\n",
    "                    # for putting rectangle on face\n",
    "                    #cv2.rectangle(faceAligned, (x,y), (x+w, y+h), (0, 255, 0),3)\n",
    "                    roi_color = faceAligned[y:y+h, x:x+w]\n",
    "                    cv2.imwrite(imageP , roi_color)\n",
    "            except:\n",
    "                continue\n",
    "        except:\n",
    "            continue\n",
    "        \n",
    "        image = preprocess_image([bytes(imageP, 'utf-8')])\n",
    "        yield image, value "
   ]
  },
  {
   "cell_type": "markdown",
   "id": "f32a38c2",
   "metadata": {},
   "source": [
    "#### Using train and test for the model"
   ]
  },
  {
   "cell_type": "code",
   "execution_count": 19,
   "id": "c0166cac",
   "metadata": {},
   "outputs": [],
   "source": [
    "ds_train = tf.data.Dataset.from_generator(yield_training_values,\n",
    "                                          args=[X_train, y_train],\n",
    "                                          output_types=(tf.float32, tf.float32),\n",
    "                                          output_shapes=([227, 227, 3], [1]))\n",
    "\n",
    "\n",
    "ds_test = tf.data.Dataset.from_generator(yield_training_values,\n",
    "                                          args=[X_test, y_test],\n",
    "                                          output_types=(tf.float32, tf.float32),\n",
    "                                          output_shapes=([227, 227, 3], [1]))"
   ]
  },
  {
   "cell_type": "markdown",
   "id": "f6c162a0",
   "metadata": {},
   "source": [
    "### Shuffling the data"
   ]
  },
  {
   "cell_type": "code",
   "execution_count": 20,
   "id": "702b6b4e",
   "metadata": {},
   "outputs": [],
   "source": [
    "AUTOTUNE = tf.data.AUTOTUNE\n",
    "ds_train = ds_train.cache().shuffle(buffer_size=1000).batch(32).prefetch(buffer_size=AUTOTUNE)\n",
    "ds_test = ds_test.cache().shuffle(buffer_size=1000).batch(32).prefetch(buffer_size=AUTOTUNE)"
   ]
  },
  {
   "cell_type": "markdown",
   "id": "42cb232d",
   "metadata": {},
   "source": [
    "## Model Implementation"
   ]
  },
  {
   "cell_type": "markdown",
   "id": "362f1553",
   "metadata": {},
   "source": [
    "### Data Augmentation"
   ]
  },
  {
   "cell_type": "code",
   "execution_count": 21,
   "id": "f582d015",
   "metadata": {},
   "outputs": [],
   "source": [
    "data_augmentation = tf.keras.Sequential([\n",
    "  tf.keras.layers.RandomFlip(\"horizontal_and_vertical\"),\n",
    "  tf.keras.layers.RandomRotation(0.2),\n",
    "  tf.keras.layers.RandomZoom(0.2,0.2),\n",
    "])"
   ]
  },
  {
   "cell_type": "markdown",
   "id": "283fd760",
   "metadata": {},
   "source": [
    "### Model Building"
   ]
  },
  {
   "cell_type": "code",
   "execution_count": 22,
   "id": "cce17f21",
   "metadata": {},
   "outputs": [],
   "source": [
    "model = keras.models.Sequential([\n",
    "    data_augmentation,\n",
    "    keras.layers.Conv2D(filters=96, kernel_size=(7,7), strides=(4,4), activation='relu', input_shape=(227,227,3)),\n",
    "    keras.layers.BatchNormalization(),\n",
    "    keras.layers.MaxPool2D(pool_size=(3,3), strides=(2,2)),\n",
    "    keras.layers.Conv2D(filters=256, kernel_size=(5,5), strides=(1,1), activation='relu', padding=\"same\"),\n",
    "    keras.layers.BatchNormalization(),\n",
    "    keras.layers.MaxPool2D(pool_size=(3,3), strides=(2,2)),\n",
    "    keras.layers.Conv2D(filters=384, kernel_size=(3,3), strides=(1,1), activation='relu', padding=\"same\"),\n",
    "    keras.layers.BatchNormalization(),\n",
    "    keras.layers.MaxPool2D(pool_size=(3,3), strides=((2,2))),\n",
    "    keras.layers.Conv2D(filters=256, kernel_size=(3,3), strides=(1,1), activation='relu', padding=\"same\"),\n",
    "    keras.layers.BatchNormalization(),\n",
    "    keras.layers.MaxPool2D(pool_size=(3,3), strides=((2,2))),\n",
    "    keras.layers.Flatten(),\n",
    "    keras.layers.Dense(512, activation='relu'),\n",
    "    keras.layers.Dropout(0.5),\n",
    "    keras.layers.Dense(512, activation='relu', kernel_regularizer=keras.regularizers.l2(l=0.01)),\n",
    "    keras.layers.Dropout(0.5),\n",
    "    keras.layers.Dense(4, activation='softmax')\n",
    "])"
   ]
  },
  {
   "cell_type": "code",
   "execution_count": 23,
   "id": "2b993d04",
   "metadata": {},
   "outputs": [],
   "source": [
    "checkpoint_path = \"model_checkpoints_weights/adience/age_checkpoint_13mar.ckpt\"\n",
    "\n",
    "# Create a ModelCheckpoint callback that saves the model's weights only\n",
    "checkpoint_callback = tf.keras.callbacks.ModelCheckpoint(filepath=checkpoint_path,\n",
    "                                                         save_weights_only=True, # set to False to save the entire model\n",
    "                                                         save_best_only=True, # set to True to save only the best model instead of a model every epoch \n",
    "                                                         save_freq=\"epoch\", # save every epoch\n",
    "                                                         verbose=1)"
   ]
  },
  {
   "cell_type": "code",
   "execution_count": 24,
   "id": "8ac08e33",
   "metadata": {},
   "outputs": [],
   "source": [
    "#adam = tf.keras.optimizers.Adam(learning_rate=0.001) \n",
    "sgd = SGD(learning_rate=0.001)\n",
    "model.compile(optimizer=sgd, loss = tf.keras.losses.SparseCategoricalCrossentropy(), metrics=['accuracy'])"
   ]
  },
  {
   "cell_type": "markdown",
   "id": "4b9ab85a",
   "metadata": {},
   "source": [
    "### Training the Model"
   ]
  },
  {
   "cell_type": "code",
   "execution_count": 25,
   "id": "4f9a19e6",
   "metadata": {},
   "outputs": [
    {
     "name": "stdout",
     "output_type": "stream",
     "text": [
      "Epoch 1/20\n",
      "WARNING:tensorflow:Using a while_loop for converting RngReadAndSkip cause there is no registered converter for this op.\n",
      "WARNING:tensorflow:Using a while_loop for converting Bitcast cause there is no registered converter for this op.\n",
      "WARNING:tensorflow:Using a while_loop for converting Bitcast cause there is no registered converter for this op.\n",
      "WARNING:tensorflow:Using a while_loop for converting StatelessRandomUniformV2 cause there is no registered converter for this op.\n",
      "WARNING:tensorflow:Using a while_loop for converting ImageProjectiveTransformV3 cause there is no registered converter for this op.\n",
      "WARNING:tensorflow:Using a while_loop for converting RngReadAndSkip cause there is no registered converter for this op.\n",
      "WARNING:tensorflow:Using a while_loop for converting Bitcast cause there is no registered converter for this op.\n",
      "WARNING:tensorflow:Using a while_loop for converting Bitcast cause there is no registered converter for this op.\n",
      "WARNING:tensorflow:Using a while_loop for converting StatelessRandomUniformV2 cause there is no registered converter for this op.\n",
      "WARNING:tensorflow:Using a while_loop for converting RngReadAndSkip cause there is no registered converter for this op.\n",
      "WARNING:tensorflow:Using a while_loop for converting Bitcast cause there is no registered converter for this op.\n",
      "WARNING:tensorflow:Using a while_loop for converting Bitcast cause there is no registered converter for this op.\n",
      "WARNING:tensorflow:Using a while_loop for converting StatelessRandomUniformV2 cause there is no registered converter for this op.\n",
      "WARNING:tensorflow:Using a while_loop for converting ImageProjectiveTransformV3 cause there is no registered converter for this op.\n",
      "WARNING:tensorflow:Using a while_loop for converting RngReadAndSkip cause there is no registered converter for this op.\n",
      "WARNING:tensorflow:Using a while_loop for converting Bitcast cause there is no registered converter for this op.\n",
      "WARNING:tensorflow:Using a while_loop for converting Bitcast cause there is no registered converter for this op.\n",
      "WARNING:tensorflow:Using a while_loop for converting StatelessRandomUniformV2 cause there is no registered converter for this op.\n",
      "WARNING:tensorflow:Using a while_loop for converting ImageProjectiveTransformV3 cause there is no registered converter for this op.\n",
      "WARNING:tensorflow:Using a while_loop for converting RngReadAndSkip cause there is no registered converter for this op.\n",
      "WARNING:tensorflow:Using a while_loop for converting Bitcast cause there is no registered converter for this op.\n",
      "WARNING:tensorflow:Using a while_loop for converting Bitcast cause there is no registered converter for this op.\n",
      "WARNING:tensorflow:Using a while_loop for converting StatelessRandomUniformV2 cause there is no registered converter for this op.\n",
      "WARNING:tensorflow:Using a while_loop for converting RngReadAndSkip cause there is no registered converter for this op.\n",
      "WARNING:tensorflow:Using a while_loop for converting Bitcast cause there is no registered converter for this op.\n",
      "WARNING:tensorflow:Using a while_loop for converting Bitcast cause there is no registered converter for this op.\n",
      "WARNING:tensorflow:Using a while_loop for converting StatelessRandomUniformV2 cause there is no registered converter for this op.\n",
      "WARNING:tensorflow:Using a while_loop for converting ImageProjectiveTransformV3 cause there is no registered converter for this op.\n",
      "WARNING:tensorflow:Using a while_loop for converting RngReadAndSkip cause there is no registered converter for this op.\n",
      "WARNING:tensorflow:Using a while_loop for converting Bitcast cause there is no registered converter for this op.\n",
      "WARNING:tensorflow:Using a while_loop for converting Bitcast cause there is no registered converter for this op.\n",
      "WARNING:tensorflow:Using a while_loop for converting StatelessRandomUniformV2 cause there is no registered converter for this op.\n",
      "WARNING:tensorflow:Using a while_loop for converting ImageProjectiveTransformV3 cause there is no registered converter for this op.\n",
      "WARNING:tensorflow:Using a while_loop for converting RngReadAndSkip cause there is no registered converter for this op.\n",
      "WARNING:tensorflow:Using a while_loop for converting Bitcast cause there is no registered converter for this op.\n",
      "WARNING:tensorflow:Using a while_loop for converting Bitcast cause there is no registered converter for this op.\n",
      "WARNING:tensorflow:Using a while_loop for converting StatelessRandomUniformV2 cause there is no registered converter for this op.\n",
      "WARNING:tensorflow:Using a while_loop for converting RngReadAndSkip cause there is no registered converter for this op.\n",
      "WARNING:tensorflow:Using a while_loop for converting Bitcast cause there is no registered converter for this op.\n",
      "WARNING:tensorflow:Using a while_loop for converting Bitcast cause there is no registered converter for this op.\n",
      "WARNING:tensorflow:Using a while_loop for converting StatelessRandomUniformV2 cause there is no registered converter for this op.\n",
      "WARNING:tensorflow:Using a while_loop for converting ImageProjectiveTransformV3 cause there is no registered converter for this op.\n",
      "WARNING:tensorflow:Using a while_loop for converting RngReadAndSkip cause there is no registered converter for this op.\n",
      "WARNING:tensorflow:Using a while_loop for converting Bitcast cause there is no registered converter for this op.\n",
      "WARNING:tensorflow:Using a while_loop for converting Bitcast cause there is no registered converter for this op.\n",
      "WARNING:tensorflow:Using a while_loop for converting StatelessRandomUniformV2 cause there is no registered converter for this op.\n",
      "WARNING:tensorflow:Using a while_loop for converting ImageProjectiveTransformV3 cause there is no registered converter for this op.\n",
      "WARNING:tensorflow:Using a while_loop for converting RngReadAndSkip cause there is no registered converter for this op.\n",
      "WARNING:tensorflow:Using a while_loop for converting Bitcast cause there is no registered converter for this op.\n",
      "WARNING:tensorflow:Using a while_loop for converting Bitcast cause there is no registered converter for this op.\n",
      "WARNING:tensorflow:Using a while_loop for converting StatelessRandomUniformV2 cause there is no registered converter for this op.\n",
      "WARNING:tensorflow:Using a while_loop for converting RngReadAndSkip cause there is no registered converter for this op.\n",
      "WARNING:tensorflow:Using a while_loop for converting Bitcast cause there is no registered converter for this op.\n",
      "WARNING:tensorflow:Using a while_loop for converting Bitcast cause there is no registered converter for this op.\n",
      "WARNING:tensorflow:Using a while_loop for converting StatelessRandomUniformV2 cause there is no registered converter for this op.\n",
      "WARNING:tensorflow:Using a while_loop for converting ImageProjectiveTransformV3 cause there is no registered converter for this op.\n",
      "    447/Unknown - 27251s 56s/step - loss: 6.8711 - accuracy: 0.3464\n",
      "Epoch 1: val_loss improved from inf to 6.30742, saving model to model_checkpoints_weights/adience\\age_checkpoint_13mar.ckpt\n",
      "447/447 [==============================] - 34186s 72s/step - loss: 6.8711 - accuracy: 0.3464 - val_loss: 6.3074 - val_accuracy: 0.3928\n",
      "Epoch 2/20\n",
      "447/447 [==============================] - ETA: 0s - loss: 6.3983 - accuracy: 0.3551\n",
      "Epoch 2: val_loss improved from 6.30742 to 6.16408, saving model to model_checkpoints_weights/adience\\age_checkpoint_13mar.ckpt\n",
      "447/447 [==============================] - 586s 1s/step - loss: 6.3983 - accuracy: 0.3551 - val_loss: 6.1641 - val_accuracy: 0.3894\n",
      "Epoch 3/20\n",
      "447/447 [==============================] - ETA: 0s - loss: 6.2138 - accuracy: 0.3615\n",
      "Epoch 3: val_loss improved from 6.16408 to 6.07589, saving model to model_checkpoints_weights/adience\\age_checkpoint_13mar.ckpt\n",
      "447/447 [==============================] - 574s 1s/step - loss: 6.2138 - accuracy: 0.3615 - val_loss: 6.0759 - val_accuracy: 0.3908\n",
      "Epoch 4/20\n",
      "447/447 [==============================] - ETA: 0s - loss: 6.0893 - accuracy: 0.3734\n",
      "Epoch 4: val_loss improved from 6.07589 to 5.97892, saving model to model_checkpoints_weights/adience\\age_checkpoint_13mar.ckpt\n",
      "447/447 [==============================] - 584s 1s/step - loss: 6.0893 - accuracy: 0.3734 - val_loss: 5.9789 - val_accuracy: 0.3835\n",
      "Epoch 5/20\n"
     ]
    },
    {
     "name": "stdout",
     "output_type": "stream",
     "text": [
      "447/447 [==============================] - ETA: 0s - loss: 5.9841 - accuracy: 0.3694\n",
      "Epoch 5: val_loss improved from 5.97892 to 5.89374, saving model to model_checkpoints_weights/adience\\age_checkpoint_13mar.ckpt\n",
      "447/447 [==============================] - 594s 1s/step - loss: 5.9841 - accuracy: 0.3694 - val_loss: 5.8937 - val_accuracy: 0.4009\n",
      "Epoch 6/20\n",
      "447/447 [==============================] - ETA: 0s - loss: 5.8842 - accuracy: 0.3787\n",
      "Epoch 6: val_loss improved from 5.89374 to 5.80772, saving model to model_checkpoints_weights/adience\\age_checkpoint_13mar.ckpt\n",
      "447/447 [==============================] - 665s 1s/step - loss: 5.8842 - accuracy: 0.3787 - val_loss: 5.8077 - val_accuracy: 0.3841\n",
      "Epoch 7/20\n",
      "447/447 [==============================] - ETA: 0s - loss: 5.7981 - accuracy: 0.3813\n",
      "Epoch 7: val_loss improved from 5.80772 to 5.72533, saving model to model_checkpoints_weights/adience\\age_checkpoint_13mar.ckpt\n",
      "447/447 [==============================] - 596s 1s/step - loss: 5.7981 - accuracy: 0.3813 - val_loss: 5.7253 - val_accuracy: 0.3956\n",
      "Epoch 8/20\n",
      "447/447 [==============================] - ETA: 0s - loss: 5.7120 - accuracy: 0.3796\n",
      "Epoch 8: val_loss improved from 5.72533 to 5.64208, saving model to model_checkpoints_weights/adience\\age_checkpoint_13mar.ckpt\n",
      "447/447 [==============================] - 589s 1s/step - loss: 5.7120 - accuracy: 0.3796 - val_loss: 5.6421 - val_accuracy: 0.4101\n",
      "Epoch 9/20\n",
      "447/447 [==============================] - ETA: 0s - loss: 5.6245 - accuracy: 0.3801\n",
      "Epoch 9: val_loss improved from 5.64208 to 5.56148, saving model to model_checkpoints_weights/adience\\age_checkpoint_13mar.ckpt\n",
      "447/447 [==============================] - 589s 1s/step - loss: 5.6245 - accuracy: 0.3801 - val_loss: 5.5615 - val_accuracy: 0.3936\n",
      "Epoch 10/20\n",
      "447/447 [==============================] - ETA: 0s - loss: 5.5464 - accuracy: 0.3790\n",
      "Epoch 10: val_loss improved from 5.56148 to 5.48603, saving model to model_checkpoints_weights/adience\\age_checkpoint_13mar.ckpt\n",
      "447/447 [==============================] - 594s 1s/step - loss: 5.5464 - accuracy: 0.3790 - val_loss: 5.4860 - val_accuracy: 0.3933\n",
      "Epoch 11/20\n",
      "447/447 [==============================] - ETA: 0s - loss: 5.4604 - accuracy: 0.3906\n",
      "Epoch 11: val_loss improved from 5.48603 to 5.40740, saving model to model_checkpoints_weights/adience\\age_checkpoint_13mar.ckpt\n",
      "447/447 [==============================] - 591s 1s/step - loss: 5.4604 - accuracy: 0.3906 - val_loss: 5.4074 - val_accuracy: 0.3900\n",
      "Epoch 12/20\n",
      "447/447 [==============================] - ETA: 0s - loss: 5.3873 - accuracy: 0.3820\n",
      "Epoch 12: val_loss improved from 5.40740 to 5.33276, saving model to model_checkpoints_weights/adience\\age_checkpoint_13mar.ckpt\n",
      "447/447 [==============================] - 580s 1s/step - loss: 5.3873 - accuracy: 0.3820 - val_loss: 5.3328 - val_accuracy: 0.3973\n",
      "Epoch 13/20\n",
      "447/447 [==============================] - ETA: 0s - loss: 5.3111 - accuracy: 0.3832\n",
      "Epoch 13: val_loss improved from 5.33276 to 5.25969, saving model to model_checkpoints_weights/adience\\age_checkpoint_13mar.ckpt\n",
      "447/447 [==============================] - 583s 1s/step - loss: 5.3111 - accuracy: 0.3832 - val_loss: 5.2597 - val_accuracy: 0.4059\n",
      "Epoch 14/20\n",
      "447/447 [==============================] - ETA: 0s - loss: 5.2358 - accuracy: 0.3856\n",
      "Epoch 14: val_loss improved from 5.25969 to 5.18785, saving model to model_checkpoints_weights/adience\\age_checkpoint_13mar.ckpt\n",
      "447/447 [==============================] - 577s 1s/step - loss: 5.2358 - accuracy: 0.3856 - val_loss: 5.1878 - val_accuracy: 0.4023\n",
      "Epoch 15/20\n",
      "447/447 [==============================] - ETA: 0s - loss: 5.1607 - accuracy: 0.3952\n",
      "Epoch 15: val_loss improved from 5.18785 to 5.11548, saving model to model_checkpoints_weights/adience\\age_checkpoint_13mar.ckpt\n",
      "447/447 [==============================] - 587s 1s/step - loss: 5.1607 - accuracy: 0.3952 - val_loss: 5.1155 - val_accuracy: 0.4009\n",
      "Epoch 16/20\n",
      "447/447 [==============================] - ETA: 0s - loss: 5.0871 - accuracy: 0.3925\n",
      "Epoch 16: val_loss improved from 5.11548 to 5.04686, saving model to model_checkpoints_weights/adience\\age_checkpoint_13mar.ckpt\n",
      "447/447 [==============================] - 585s 1s/step - loss: 5.0871 - accuracy: 0.3925 - val_loss: 5.0469 - val_accuracy: 0.3975\n",
      "Epoch 17/20\n",
      "447/447 [==============================] - ETA: 0s - loss: 5.0187 - accuracy: 0.3937\n",
      "Epoch 17: val_loss improved from 5.04686 to 4.97836, saving model to model_checkpoints_weights/adience\\age_checkpoint_13mar.ckpt\n",
      "447/447 [==============================] - 585s 1s/step - loss: 5.0187 - accuracy: 0.3937 - val_loss: 4.9784 - val_accuracy: 0.4045\n",
      "Epoch 18/20\n",
      "447/447 [==============================] - ETA: 0s - loss: 4.9460 - accuracy: 0.3971\n",
      "Epoch 18: val_loss improved from 4.97836 to 4.91308, saving model to model_checkpoints_weights/adience\\age_checkpoint_13mar.ckpt\n",
      "447/447 [==============================] - 582s 1s/step - loss: 4.9460 - accuracy: 0.3971 - val_loss: 4.9131 - val_accuracy: 0.4054\n",
      "Epoch 19/20\n",
      "447/447 [==============================] - ETA: 0s - loss: 4.8815 - accuracy: 0.3965\n",
      "Epoch 19: val_loss improved from 4.91308 to 4.84540, saving model to model_checkpoints_weights/adience\\age_checkpoint_13mar.ckpt\n",
      "447/447 [==============================] - 577s 1s/step - loss: 4.8815 - accuracy: 0.3965 - val_loss: 4.8454 - val_accuracy: 0.4034\n",
      "Epoch 20/20\n",
      "447/447 [==============================] - ETA: 0s - loss: 4.8149 - accuracy: 0.3916\n",
      "Epoch 20: val_loss improved from 4.84540 to 4.78103, saving model to model_checkpoints_weights/adience\\age_checkpoint_13mar.ckpt\n",
      "447/447 [==============================] - 570s 1s/step - loss: 4.8149 - accuracy: 0.3916 - val_loss: 4.7810 - val_accuracy: 0.4023\n"
     ]
    }
   ],
   "source": [
    "history = model.fit(ds_train, validation_data=ds_test, epochs=20, callbacks = [checkpoint_callback])"
   ]
  },
  {
   "cell_type": "code",
   "execution_count": 26,
   "id": "9b19078a",
   "metadata": {},
   "outputs": [],
   "source": [
    "# Plot the validation and training data separately\n",
    "def plot_loss_curves(history):\n",
    "    \"\"\"\n",
    "    Returns separate loss curves for training and validation metrics.\n",
    "    \"\"\" \n",
    "    loss = history.history['loss']\n",
    "    val_loss = history.history['val_loss']\n",
    "\n",
    "    accuracy = history.history['accuracy']\n",
    "    val_accuracy = history.history['val_accuracy']\n",
    "\n",
    "    epochs = range(len(history.history['loss']))\n",
    "\n",
    "    # Plot loss\n",
    "    plt.plot(epochs, loss, label='training_loss')\n",
    "    plt.plot(epochs, val_loss, label='val_loss')\n",
    "    plt.title('Loss')\n",
    "    plt.xlabel('Epochs')\n",
    "    plt.legend()\n",
    "\n",
    "    # Plot accuracy\n",
    "    plt.figure()\n",
    "    plt.plot(epochs, accuracy, label='training_accuracy')\n",
    "    plt.plot(epochs, val_accuracy, label='val_accuracy')\n",
    "    plt.title('Accuracy')\n",
    "    plt.xlabel('Epochs')\n",
    "    plt.legend();"
   ]
  },
  {
   "cell_type": "code",
   "execution_count": 27,
   "id": "a28e5333",
   "metadata": {},
   "outputs": [],
   "source": [
    "model.save(\"models/adience/age_13mar.h5\") "
   ]
  },
  {
   "cell_type": "code",
   "execution_count": 28,
   "id": "47333ef1",
   "metadata": {},
   "outputs": [
    {
     "data": {
      "image/png": "[encoded data removed]",
      "text/plain": [
       "<Figure size 432x288 with 1 Axes>"
      ]
     },
     "metadata": {
      "needs_background": "light"
     },
     "output_type": "display_data"
    },
    {
     "data": {
      "image/png": "[encoded data removed]",
      "text/plain": [
       "<Figure size 432x288 with 1 Axes>"
      ]
     },
     "metadata": {
      "needs_background": "light"
     },
     "output_type": "display_data"
    }
   ],
   "source": [
    "plot_loss_curves(history)"
   ]
  },
  {
   "cell_type": "code",
   "execution_count": 29,
   "id": "007659d8",
   "metadata": {},
   "outputs": [
    {
     "name": "stdout",
     "output_type": "stream",
     "text": [
      "112/112 [==============================] - 29s 258ms/step - loss: 4.7810 - accuracy: 0.4023\n"
     ]
    },
    {
     "data": {
      "text/plain": [
       "[4.7810258865356445, 0.40229561924934387]"
      ]
     },
     "execution_count": 29,
     "metadata": {},
     "output_type": "execute_result"
    }
   ],
   "source": [
    "model.evaluate(ds_test)"
   ]
  },
  {
   "cell_type": "code",
   "execution_count": 30,
   "id": "5d911989",
   "metadata": {},
   "outputs": [
    {
     "name": "stdout",
     "output_type": "stream",
     "text": [
      "Model: \"sequential_1\"\n",
      "_________________________________________________________________\n",
      " Layer (type)                Output Shape              Param #   \n",
      "=================================================================\n",
      " sequential (Sequential)     (None, 227, 227, 3)       0         \n",
      "                                                                 \n",
      " conv2d (Conv2D)             (None, 56, 56, 96)        14208     \n",
      "                                                                 \n",
      " batch_normalization (BatchN  (None, 56, 56, 96)       384       \n",
      " ormalization)                                                   \n",
      "                                                                 \n",
      " max_pooling2d (MaxPooling2D  (None, 27, 27, 96)       0         \n",
      " )                                                               \n",
      "                                                                 \n",
      " conv2d_1 (Conv2D)           (None, 27, 27, 256)       614656    \n",
      "                                                                 \n",
      " batch_normalization_1 (Batc  (None, 27, 27, 256)      1024      \n",
      " hNormalization)                                                 \n",
      "                                                                 \n",
      " max_pooling2d_1 (MaxPooling  (None, 13, 13, 256)      0         \n",
      " 2D)                                                             \n",
      "                                                                 \n",
      " conv2d_2 (Conv2D)           (None, 13, 13, 384)       885120    \n",
      "                                                                 \n",
      " batch_normalization_2 (Batc  (None, 13, 13, 384)      1536      \n",
      " hNormalization)                                                 \n",
      "                                                                 \n",
      " max_pooling2d_2 (MaxPooling  (None, 6, 6, 384)        0         \n",
      " 2D)                                                             \n",
      "                                                                 \n",
      " conv2d_3 (Conv2D)           (None, 6, 6, 256)         884992    \n",
      "                                                                 \n",
      " batch_normalization_3 (Batc  (None, 6, 6, 256)        1024      \n",
      " hNormalization)                                                 \n",
      "                                                                 \n",
      " max_pooling2d_3 (MaxPooling  (None, 2, 2, 256)        0         \n",
      " 2D)                                                             \n",
      "                                                                 \n",
      " flatten (Flatten)           (None, 1024)              0         \n",
      "                                                                 \n",
      " dense (Dense)               (None, 512)               524800    \n",
      "                                                                 \n",
      " dropout (Dropout)           (None, 512)               0         \n",
      "                                                                 \n",
      " dense_1 (Dense)             (None, 512)               262656    \n",
      "                                                                 \n",
      " dropout_1 (Dropout)         (None, 512)               0         \n",
      "                                                                 \n",
      " dense_2 (Dense)             (None, 4)                 2052      \n",
      "                                                                 \n",
      "=================================================================\n",
      "Total params: 3,192,452\n",
      "Trainable params: 3,190,468\n",
      "Non-trainable params: 1,984\n",
      "_________________________________________________________________\n"
     ]
    }
   ],
   "source": [
    "model.summary()"
   ]
  }
 ],
 "metadata": {
  "kernelspec": {
   "display_name": "Python 3 (ipykernel)",
   "language": "python",
   "name": "python3"
  },
  "language_info": {
   "codemirror_mode": {
    "name": "ipython",
    "version": 3
   },
   "file_extension": ".py",
   "mimetype": "text/x-python",
   "name": "python",
   "nbconvert_exporter": "python",
   "pygments_lexer": "ipython3",
   "version": "3.8.10"
  }
 },
 "nbformat": 4,
 "nbformat_minor": 5
}
